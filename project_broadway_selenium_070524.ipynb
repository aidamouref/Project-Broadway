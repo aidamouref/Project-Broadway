{
 "cells": [
  {
   "cell_type": "markdown",
   "metadata": {},
   "source": [
    "### Project: Broadway"
   ]
  },
  {
   "cell_type": "code",
   "execution_count": null,
   "metadata": {},
   "outputs": [],
   "source": [
    "#### Webscrapping!"
   ]
  },
  {
   "cell_type": "code",
   "execution_count": 1,
   "metadata": {},
   "outputs": [],
   "source": [
    "from selenium import webdriver #as mentioned before, the webdriver is necessary to open the programming interface\n",
    "from selenium.webdriver.common.keys import Keys #with this we can simulate a keyword\n",
    "import time"
   ]
  },
  {
   "cell_type": "code",
   "execution_count": 2,
   "metadata": {},
   "outputs": [],
   "source": [
    "path=(\"C:/Program Files (x86)/chromedriver.exe\")\n",
    "driver=webdriver.Chrome(path) #me abre una página en blanco!\n",
    "driver.get(\"https://www.youtube.com/\") "
   ]
  },
  {
   "cell_type": "code",
   "execution_count": 3,
   "metadata": {},
   "outputs": [],
   "source": [
    "time.sleep(3)"
   ]
  },
  {
   "cell_type": "code",
   "execution_count": 4,
   "metadata": {},
   "outputs": [],
   "source": [
    "aceptar=driver.find_element_by_xpath('//*[@id=\"content\"]/div[2]/div[6]/div[1]/ytd-button-renderer[2]/yt-button-shape/button/yt-touch-feedback-shape/div/div[2]')"
   ]
  },
  {
   "cell_type": "code",
   "execution_count": 5,
   "metadata": {},
   "outputs": [],
   "source": [
    "aceptar.click()"
   ]
  },
  {
   "cell_type": "code",
   "execution_count": 6,
   "metadata": {},
   "outputs": [],
   "source": [
    "time.sleep(3)"
   ]
  },
  {
   "cell_type": "code",
   "execution_count": 7,
   "metadata": {},
   "outputs": [],
   "source": [
    "buscar=driver.find_element_by_xpath('/html/body/ytd-app/div[1]/div/ytd-masthead/div[4]/div[2]/ytd-searchbox/form/div[1]/div[1]/input')"
   ]
  },
  {
   "cell_type": "code",
   "execution_count": 8,
   "metadata": {},
   "outputs": [],
   "source": [
    "time.sleep(3)"
   ]
  },
  {
   "cell_type": "code",
   "execution_count": 9,
   "metadata": {},
   "outputs": [],
   "source": [
    "buscar.send_keys('Broadway Welcome')"
   ]
  },
  {
   "cell_type": "code",
   "execution_count": 10,
   "metadata": {},
   "outputs": [],
   "source": [
    "buscar.send_keys(Keys.ENTER)"
   ]
  },
  {
   "cell_type": "code",
   "execution_count": 11,
   "metadata": {},
   "outputs": [],
   "source": [
    "time.sleep(3)"
   ]
  },
  {
   "cell_type": "code",
   "execution_count": 12,
   "metadata": {},
   "outputs": [],
   "source": [
    "video=driver.find_elements_by_class_name(\"yt-core-image\")"
   ]
  },
  {
   "cell_type": "code",
   "execution_count": 13,
   "metadata": {},
   "outputs": [
    {
     "data": {
      "text/plain": [
       "36"
      ]
     },
     "execution_count": 13,
     "metadata": {},
     "output_type": "execute_result"
    }
   ],
   "source": [
    "len(video) "
   ]
  },
  {
   "cell_type": "code",
   "execution_count": 14,
   "metadata": {},
   "outputs": [
    {
     "data": {
      "text/plain": [
       "''"
      ]
     },
     "execution_count": 14,
     "metadata": {},
     "output_type": "execute_result"
    }
   ],
   "source": [
    "video[0].text "
   ]
  },
  {
   "cell_type": "code",
   "execution_count": 15,
   "metadata": {},
   "outputs": [
    {
     "data": {
      "text/plain": [
       "[<selenium.webdriver.remote.webelement.WebElement (session=\"5585524f4e1d1a93c3b390bb63ca17de\", element=\"f.BD3EBA167C3DA9F5CF444BA1360D375D.d.6B637117C828627F4B0C4DAEE19FC544.e.48\")>,\n",
       " <selenium.webdriver.remote.webelement.WebElement (session=\"5585524f4e1d1a93c3b390bb63ca17de\", element=\"f.BD3EBA167C3DA9F5CF444BA1360D375D.d.6B637117C828627F4B0C4DAEE19FC544.e.49\")>,\n",
       " <selenium.webdriver.remote.webelement.WebElement (session=\"5585524f4e1d1a93c3b390bb63ca17de\", element=\"f.BD3EBA167C3DA9F5CF444BA1360D375D.d.6B637117C828627F4B0C4DAEE19FC544.e.50\")>,\n",
       " <selenium.webdriver.remote.webelement.WebElement (session=\"5585524f4e1d1a93c3b390bb63ca17de\", element=\"f.BD3EBA167C3DA9F5CF444BA1360D375D.d.6B637117C828627F4B0C4DAEE19FC544.e.51\")>,\n",
       " <selenium.webdriver.remote.webelement.WebElement (session=\"5585524f4e1d1a93c3b390bb63ca17de\", element=\"f.BD3EBA167C3DA9F5CF444BA1360D375D.d.6B637117C828627F4B0C4DAEE19FC544.e.52\")>,\n",
       " <selenium.webdriver.remote.webelement.WebElement (session=\"5585524f4e1d1a93c3b390bb63ca17de\", element=\"f.BD3EBA167C3DA9F5CF444BA1360D375D.d.6B637117C828627F4B0C4DAEE19FC544.e.53\")>,\n",
       " <selenium.webdriver.remote.webelement.WebElement (session=\"5585524f4e1d1a93c3b390bb63ca17de\", element=\"f.BD3EBA167C3DA9F5CF444BA1360D375D.d.6B637117C828627F4B0C4DAEE19FC544.e.54\")>,\n",
       " <selenium.webdriver.remote.webelement.WebElement (session=\"5585524f4e1d1a93c3b390bb63ca17de\", element=\"f.BD3EBA167C3DA9F5CF444BA1360D375D.d.6B637117C828627F4B0C4DAEE19FC544.e.55\")>,\n",
       " <selenium.webdriver.remote.webelement.WebElement (session=\"5585524f4e1d1a93c3b390bb63ca17de\", element=\"f.BD3EBA167C3DA9F5CF444BA1360D375D.d.6B637117C828627F4B0C4DAEE19FC544.e.56\")>,\n",
       " <selenium.webdriver.remote.webelement.WebElement (session=\"5585524f4e1d1a93c3b390bb63ca17de\", element=\"f.BD3EBA167C3DA9F5CF444BA1360D375D.d.6B637117C828627F4B0C4DAEE19FC544.e.57\")>,\n",
       " <selenium.webdriver.remote.webelement.WebElement (session=\"5585524f4e1d1a93c3b390bb63ca17de\", element=\"f.BD3EBA167C3DA9F5CF444BA1360D375D.d.6B637117C828627F4B0C4DAEE19FC544.e.58\")>,\n",
       " <selenium.webdriver.remote.webelement.WebElement (session=\"5585524f4e1d1a93c3b390bb63ca17de\", element=\"f.BD3EBA167C3DA9F5CF444BA1360D375D.d.6B637117C828627F4B0C4DAEE19FC544.e.59\")>,\n",
       " <selenium.webdriver.remote.webelement.WebElement (session=\"5585524f4e1d1a93c3b390bb63ca17de\", element=\"f.BD3EBA167C3DA9F5CF444BA1360D375D.d.6B637117C828627F4B0C4DAEE19FC544.e.60\")>,\n",
       " <selenium.webdriver.remote.webelement.WebElement (session=\"5585524f4e1d1a93c3b390bb63ca17de\", element=\"f.BD3EBA167C3DA9F5CF444BA1360D375D.d.6B637117C828627F4B0C4DAEE19FC544.e.61\")>,\n",
       " <selenium.webdriver.remote.webelement.WebElement (session=\"5585524f4e1d1a93c3b390bb63ca17de\", element=\"f.BD3EBA167C3DA9F5CF444BA1360D375D.d.6B637117C828627F4B0C4DAEE19FC544.e.62\")>,\n",
       " <selenium.webdriver.remote.webelement.WebElement (session=\"5585524f4e1d1a93c3b390bb63ca17de\", element=\"f.BD3EBA167C3DA9F5CF444BA1360D375D.d.6B637117C828627F4B0C4DAEE19FC544.e.63\")>,\n",
       " <selenium.webdriver.remote.webelement.WebElement (session=\"5585524f4e1d1a93c3b390bb63ca17de\", element=\"f.BD3EBA167C3DA9F5CF444BA1360D375D.d.6B637117C828627F4B0C4DAEE19FC544.e.64\")>,\n",
       " <selenium.webdriver.remote.webelement.WebElement (session=\"5585524f4e1d1a93c3b390bb63ca17de\", element=\"f.BD3EBA167C3DA9F5CF444BA1360D375D.d.6B637117C828627F4B0C4DAEE19FC544.e.65\")>,\n",
       " <selenium.webdriver.remote.webelement.WebElement (session=\"5585524f4e1d1a93c3b390bb63ca17de\", element=\"f.BD3EBA167C3DA9F5CF444BA1360D375D.d.6B637117C828627F4B0C4DAEE19FC544.e.66\")>,\n",
       " <selenium.webdriver.remote.webelement.WebElement (session=\"5585524f4e1d1a93c3b390bb63ca17de\", element=\"f.BD3EBA167C3DA9F5CF444BA1360D375D.d.6B637117C828627F4B0C4DAEE19FC544.e.67\")>,\n",
       " <selenium.webdriver.remote.webelement.WebElement (session=\"5585524f4e1d1a93c3b390bb63ca17de\", element=\"f.BD3EBA167C3DA9F5CF444BA1360D375D.d.6B637117C828627F4B0C4DAEE19FC544.e.68\")>,\n",
       " <selenium.webdriver.remote.webelement.WebElement (session=\"5585524f4e1d1a93c3b390bb63ca17de\", element=\"f.BD3EBA167C3DA9F5CF444BA1360D375D.d.6B637117C828627F4B0C4DAEE19FC544.e.69\")>,\n",
       " <selenium.webdriver.remote.webelement.WebElement (session=\"5585524f4e1d1a93c3b390bb63ca17de\", element=\"f.BD3EBA167C3DA9F5CF444BA1360D375D.d.6B637117C828627F4B0C4DAEE19FC544.e.70\")>,\n",
       " <selenium.webdriver.remote.webelement.WebElement (session=\"5585524f4e1d1a93c3b390bb63ca17de\", element=\"f.BD3EBA167C3DA9F5CF444BA1360D375D.d.6B637117C828627F4B0C4DAEE19FC544.e.71\")>,\n",
       " <selenium.webdriver.remote.webelement.WebElement (session=\"5585524f4e1d1a93c3b390bb63ca17de\", element=\"f.BD3EBA167C3DA9F5CF444BA1360D375D.d.6B637117C828627F4B0C4DAEE19FC544.e.72\")>,\n",
       " <selenium.webdriver.remote.webelement.WebElement (session=\"5585524f4e1d1a93c3b390bb63ca17de\", element=\"f.BD3EBA167C3DA9F5CF444BA1360D375D.d.6B637117C828627F4B0C4DAEE19FC544.e.73\")>,\n",
       " <selenium.webdriver.remote.webelement.WebElement (session=\"5585524f4e1d1a93c3b390bb63ca17de\", element=\"f.BD3EBA167C3DA9F5CF444BA1360D375D.d.6B637117C828627F4B0C4DAEE19FC544.e.74\")>,\n",
       " <selenium.webdriver.remote.webelement.WebElement (session=\"5585524f4e1d1a93c3b390bb63ca17de\", element=\"f.BD3EBA167C3DA9F5CF444BA1360D375D.d.6B637117C828627F4B0C4DAEE19FC544.e.75\")>,\n",
       " <selenium.webdriver.remote.webelement.WebElement (session=\"5585524f4e1d1a93c3b390bb63ca17de\", element=\"f.BD3EBA167C3DA9F5CF444BA1360D375D.d.6B637117C828627F4B0C4DAEE19FC544.e.76\")>,\n",
       " <selenium.webdriver.remote.webelement.WebElement (session=\"5585524f4e1d1a93c3b390bb63ca17de\", element=\"f.BD3EBA167C3DA9F5CF444BA1360D375D.d.6B637117C828627F4B0C4DAEE19FC544.e.77\")>,\n",
       " <selenium.webdriver.remote.webelement.WebElement (session=\"5585524f4e1d1a93c3b390bb63ca17de\", element=\"f.BD3EBA167C3DA9F5CF444BA1360D375D.d.6B637117C828627F4B0C4DAEE19FC544.e.78\")>,\n",
       " <selenium.webdriver.remote.webelement.WebElement (session=\"5585524f4e1d1a93c3b390bb63ca17de\", element=\"f.BD3EBA167C3DA9F5CF444BA1360D375D.d.6B637117C828627F4B0C4DAEE19FC544.e.79\")>,\n",
       " <selenium.webdriver.remote.webelement.WebElement (session=\"5585524f4e1d1a93c3b390bb63ca17de\", element=\"f.BD3EBA167C3DA9F5CF444BA1360D375D.d.6B637117C828627F4B0C4DAEE19FC544.e.80\")>,\n",
       " <selenium.webdriver.remote.webelement.WebElement (session=\"5585524f4e1d1a93c3b390bb63ca17de\", element=\"f.BD3EBA167C3DA9F5CF444BA1360D375D.d.6B637117C828627F4B0C4DAEE19FC544.e.81\")>,\n",
       " <selenium.webdriver.remote.webelement.WebElement (session=\"5585524f4e1d1a93c3b390bb63ca17de\", element=\"f.BD3EBA167C3DA9F5CF444BA1360D375D.d.6B637117C828627F4B0C4DAEE19FC544.e.82\")>,\n",
       " <selenium.webdriver.remote.webelement.WebElement (session=\"5585524f4e1d1a93c3b390bb63ca17de\", element=\"f.BD3EBA167C3DA9F5CF444BA1360D375D.d.6B637117C828627F4B0C4DAEE19FC544.e.83\")>]"
      ]
     },
     "execution_count": 15,
     "metadata": {},
     "output_type": "execute_result"
    }
   ],
   "source": [
    "video"
   ]
  },
  {
   "cell_type": "code",
   "execution_count": 16,
   "metadata": {},
   "outputs": [],
   "source": [
    "video[0].click() "
   ]
  },
  {
   "cell_type": "code",
   "execution_count": 17,
   "metadata": {},
   "outputs": [],
   "source": [
    "#if necessary \n",
    "#button = driver.find_element_by_class_name('ytp-ad-skip-button-container')\n",
    "#button.click()"
   ]
  },
  {
   "cell_type": "code",
   "execution_count": 18,
   "metadata": {},
   "outputs": [
    {
     "ename": "KeyboardInterrupt",
     "evalue": "",
     "output_type": "error",
     "traceback": [
      "\u001b[1;31m---------------------------------------------------------------------------\u001b[0m",
      "\u001b[1;31mKeyboardInterrupt\u001b[0m                         Traceback (most recent call last)",
      "Cell \u001b[1;32mIn[18], line 1\u001b[0m\n\u001b[1;32m----> 1\u001b[0m time\u001b[38;5;241m.\u001b[39msleep(\u001b[38;5;241m70\u001b[39m)\n",
      "\u001b[1;31mKeyboardInterrupt\u001b[0m: "
     ]
    }
   ],
   "source": [
    "#time.sleep(70)"
   ]
  },
  {
   "cell_type": "code",
   "execution_count": null,
   "metadata": {},
   "outputs": [],
   "source": [
    "driver.close()"
   ]
  },
  {
   "cell_type": "code",
   "execution_count": null,
   "metadata": {},
   "outputs": [],
   "source": [
    "driver.quit()"
   ]
  },
  {
   "cell_type": "code",
   "execution_count": null,
   "metadata": {},
   "outputs": [],
   "source": []
  }
 ],
 "metadata": {
  "kernelspec": {
   "display_name": "aida",
   "language": "python",
   "name": "python3"
  },
  "language_info": {
   "codemirror_mode": {
    "name": "ipython",
    "version": 3
   },
   "file_extension": ".py",
   "mimetype": "text/x-python",
   "name": "python",
   "nbconvert_exporter": "python",
   "pygments_lexer": "ipython3",
   "version": "3.11.7"
  }
 },
 "nbformat": 4,
 "nbformat_minor": 2
}
