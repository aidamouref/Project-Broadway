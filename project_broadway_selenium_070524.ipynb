{
 "cells": [
  {
   "cell_type": "markdown",
   "metadata": {},
   "source": [
    "### Project: Broadway"
   ]
  },
  {
   "cell_type": "code",
   "execution_count": 64,
   "metadata": {},
   "outputs": [],
   "source": [
    "#### Webscrapping!"
   ]
  },
  {
   "cell_type": "code",
   "execution_count": 65,
   "metadata": {},
   "outputs": [],
   "source": [
    "from selenium import webdriver #as mentioned before, the webdriver is necessary to open the programming interface\n",
    "from selenium.webdriver.common.keys import Keys #with this we can simulate a keyword\n",
    "import time"
   ]
  },
  {
   "cell_type": "code",
   "execution_count": 66,
   "metadata": {},
   "outputs": [],
   "source": [
    "path=(\"C:/Program Files (x86)/chromedriver.exe\")\n",
    "driver=webdriver.Chrome(path) #me abre una página en blanco!\n",
    "driver.get(\"https://www.youtube.com/\") "
   ]
  },
  {
   "cell_type": "code",
   "execution_count": 67,
   "metadata": {},
   "outputs": [],
   "source": [
    "time.sleep(3)"
   ]
  },
  {
   "cell_type": "code",
   "execution_count": 68,
   "metadata": {},
   "outputs": [],
   "source": [
    "aceptar=driver.find_element_by_xpath('//*[@id=\"content\"]/div[2]/div[6]/div[1]/ytd-button-renderer[2]/yt-button-shape/button/yt-touch-feedback-shape/div/div[2]')"
   ]
  },
  {
   "cell_type": "code",
   "execution_count": 69,
   "metadata": {},
   "outputs": [],
   "source": [
    "aceptar.click()"
   ]
  },
  {
   "cell_type": "code",
   "execution_count": 70,
   "metadata": {},
   "outputs": [],
   "source": [
    "time.sleep(3)"
   ]
  },
  {
   "cell_type": "code",
   "execution_count": 71,
   "metadata": {},
   "outputs": [],
   "source": [
    "buscar=driver.find_element_by_xpath('/html/body/ytd-app/div[1]/div/ytd-masthead/div[4]/div[2]/ytd-searchbox/form/div[1]/div[1]/input')"
   ]
  },
  {
   "cell_type": "code",
   "execution_count": 72,
   "metadata": {},
   "outputs": [],
   "source": [
    "time.sleep(3)"
   ]
  },
  {
   "cell_type": "code",
   "execution_count": 73,
   "metadata": {},
   "outputs": [],
   "source": [
    "buscar.send_keys('Broadway Welcome')"
   ]
  },
  {
   "cell_type": "code",
   "execution_count": 74,
   "metadata": {},
   "outputs": [],
   "source": [
    "buscar.send_keys(Keys.ENTER)"
   ]
  },
  {
   "cell_type": "code",
   "execution_count": 75,
   "metadata": {},
   "outputs": [],
   "source": [
    "time.sleep(3)"
   ]
  },
  {
   "cell_type": "code",
   "execution_count": 76,
   "metadata": {},
   "outputs": [],
   "source": [
    "video=driver.find_elements_by_class_name(\"yt-core-image\")"
   ]
  },
  {
   "cell_type": "code",
   "execution_count": 77,
   "metadata": {},
   "outputs": [
    {
     "data": {
      "text/plain": [
       "36"
      ]
     },
     "execution_count": 77,
     "metadata": {},
     "output_type": "execute_result"
    }
   ],
   "source": [
    "len(video) "
   ]
  },
  {
   "cell_type": "code",
   "execution_count": 78,
   "metadata": {},
   "outputs": [
    {
     "data": {
      "text/plain": [
       "''"
      ]
     },
     "execution_count": 78,
     "metadata": {},
     "output_type": "execute_result"
    }
   ],
   "source": [
    "video[0].text "
   ]
  },
  {
   "cell_type": "code",
   "execution_count": 79,
   "metadata": {},
   "outputs": [
    {
     "data": {
      "text/plain": [
       "[<selenium.webdriver.remote.webelement.WebElement (session=\"6ab326513c3e3d86e84007b8f0501113\", element=\"f.AE9F42CCB7E99E242E2A1EA426C38D3E.d.C3035977AD5E7A8F0E4C882D5F6A98AE.e.47\")>,\n",
       " <selenium.webdriver.remote.webelement.WebElement (session=\"6ab326513c3e3d86e84007b8f0501113\", element=\"f.AE9F42CCB7E99E242E2A1EA426C38D3E.d.C3035977AD5E7A8F0E4C882D5F6A98AE.e.48\")>,\n",
       " <selenium.webdriver.remote.webelement.WebElement (session=\"6ab326513c3e3d86e84007b8f0501113\", element=\"f.AE9F42CCB7E99E242E2A1EA426C38D3E.d.C3035977AD5E7A8F0E4C882D5F6A98AE.e.49\")>,\n",
       " <selenium.webdriver.remote.webelement.WebElement (session=\"6ab326513c3e3d86e84007b8f0501113\", element=\"f.AE9F42CCB7E99E242E2A1EA426C38D3E.d.C3035977AD5E7A8F0E4C882D5F6A98AE.e.50\")>,\n",
       " <selenium.webdriver.remote.webelement.WebElement (session=\"6ab326513c3e3d86e84007b8f0501113\", element=\"f.AE9F42CCB7E99E242E2A1EA426C38D3E.d.C3035977AD5E7A8F0E4C882D5F6A98AE.e.51\")>,\n",
       " <selenium.webdriver.remote.webelement.WebElement (session=\"6ab326513c3e3d86e84007b8f0501113\", element=\"f.AE9F42CCB7E99E242E2A1EA426C38D3E.d.C3035977AD5E7A8F0E4C882D5F6A98AE.e.52\")>,\n",
       " <selenium.webdriver.remote.webelement.WebElement (session=\"6ab326513c3e3d86e84007b8f0501113\", element=\"f.AE9F42CCB7E99E242E2A1EA426C38D3E.d.C3035977AD5E7A8F0E4C882D5F6A98AE.e.53\")>,\n",
       " <selenium.webdriver.remote.webelement.WebElement (session=\"6ab326513c3e3d86e84007b8f0501113\", element=\"f.AE9F42CCB7E99E242E2A1EA426C38D3E.d.C3035977AD5E7A8F0E4C882D5F6A98AE.e.54\")>,\n",
       " <selenium.webdriver.remote.webelement.WebElement (session=\"6ab326513c3e3d86e84007b8f0501113\", element=\"f.AE9F42CCB7E99E242E2A1EA426C38D3E.d.C3035977AD5E7A8F0E4C882D5F6A98AE.e.55\")>,\n",
       " <selenium.webdriver.remote.webelement.WebElement (session=\"6ab326513c3e3d86e84007b8f0501113\", element=\"f.AE9F42CCB7E99E242E2A1EA426C38D3E.d.C3035977AD5E7A8F0E4C882D5F6A98AE.e.56\")>,\n",
       " <selenium.webdriver.remote.webelement.WebElement (session=\"6ab326513c3e3d86e84007b8f0501113\", element=\"f.AE9F42CCB7E99E242E2A1EA426C38D3E.d.C3035977AD5E7A8F0E4C882D5F6A98AE.e.57\")>,\n",
       " <selenium.webdriver.remote.webelement.WebElement (session=\"6ab326513c3e3d86e84007b8f0501113\", element=\"f.AE9F42CCB7E99E242E2A1EA426C38D3E.d.C3035977AD5E7A8F0E4C882D5F6A98AE.e.58\")>,\n",
       " <selenium.webdriver.remote.webelement.WebElement (session=\"6ab326513c3e3d86e84007b8f0501113\", element=\"f.AE9F42CCB7E99E242E2A1EA426C38D3E.d.C3035977AD5E7A8F0E4C882D5F6A98AE.e.59\")>,\n",
       " <selenium.webdriver.remote.webelement.WebElement (session=\"6ab326513c3e3d86e84007b8f0501113\", element=\"f.AE9F42CCB7E99E242E2A1EA426C38D3E.d.C3035977AD5E7A8F0E4C882D5F6A98AE.e.60\")>,\n",
       " <selenium.webdriver.remote.webelement.WebElement (session=\"6ab326513c3e3d86e84007b8f0501113\", element=\"f.AE9F42CCB7E99E242E2A1EA426C38D3E.d.C3035977AD5E7A8F0E4C882D5F6A98AE.e.61\")>,\n",
       " <selenium.webdriver.remote.webelement.WebElement (session=\"6ab326513c3e3d86e84007b8f0501113\", element=\"f.AE9F42CCB7E99E242E2A1EA426C38D3E.d.C3035977AD5E7A8F0E4C882D5F6A98AE.e.62\")>,\n",
       " <selenium.webdriver.remote.webelement.WebElement (session=\"6ab326513c3e3d86e84007b8f0501113\", element=\"f.AE9F42CCB7E99E242E2A1EA426C38D3E.d.C3035977AD5E7A8F0E4C882D5F6A98AE.e.63\")>,\n",
       " <selenium.webdriver.remote.webelement.WebElement (session=\"6ab326513c3e3d86e84007b8f0501113\", element=\"f.AE9F42CCB7E99E242E2A1EA426C38D3E.d.C3035977AD5E7A8F0E4C882D5F6A98AE.e.64\")>,\n",
       " <selenium.webdriver.remote.webelement.WebElement (session=\"6ab326513c3e3d86e84007b8f0501113\", element=\"f.AE9F42CCB7E99E242E2A1EA426C38D3E.d.C3035977AD5E7A8F0E4C882D5F6A98AE.e.65\")>,\n",
       " <selenium.webdriver.remote.webelement.WebElement (session=\"6ab326513c3e3d86e84007b8f0501113\", element=\"f.AE9F42CCB7E99E242E2A1EA426C38D3E.d.C3035977AD5E7A8F0E4C882D5F6A98AE.e.66\")>,\n",
       " <selenium.webdriver.remote.webelement.WebElement (session=\"6ab326513c3e3d86e84007b8f0501113\", element=\"f.AE9F42CCB7E99E242E2A1EA426C38D3E.d.C3035977AD5E7A8F0E4C882D5F6A98AE.e.67\")>,\n",
       " <selenium.webdriver.remote.webelement.WebElement (session=\"6ab326513c3e3d86e84007b8f0501113\", element=\"f.AE9F42CCB7E99E242E2A1EA426C38D3E.d.C3035977AD5E7A8F0E4C882D5F6A98AE.e.68\")>,\n",
       " <selenium.webdriver.remote.webelement.WebElement (session=\"6ab326513c3e3d86e84007b8f0501113\", element=\"f.AE9F42CCB7E99E242E2A1EA426C38D3E.d.C3035977AD5E7A8F0E4C882D5F6A98AE.e.69\")>,\n",
       " <selenium.webdriver.remote.webelement.WebElement (session=\"6ab326513c3e3d86e84007b8f0501113\", element=\"f.AE9F42CCB7E99E242E2A1EA426C38D3E.d.C3035977AD5E7A8F0E4C882D5F6A98AE.e.70\")>,\n",
       " <selenium.webdriver.remote.webelement.WebElement (session=\"6ab326513c3e3d86e84007b8f0501113\", element=\"f.AE9F42CCB7E99E242E2A1EA426C38D3E.d.C3035977AD5E7A8F0E4C882D5F6A98AE.e.71\")>,\n",
       " <selenium.webdriver.remote.webelement.WebElement (session=\"6ab326513c3e3d86e84007b8f0501113\", element=\"f.AE9F42CCB7E99E242E2A1EA426C38D3E.d.C3035977AD5E7A8F0E4C882D5F6A98AE.e.72\")>,\n",
       " <selenium.webdriver.remote.webelement.WebElement (session=\"6ab326513c3e3d86e84007b8f0501113\", element=\"f.AE9F42CCB7E99E242E2A1EA426C38D3E.d.C3035977AD5E7A8F0E4C882D5F6A98AE.e.73\")>,\n",
       " <selenium.webdriver.remote.webelement.WebElement (session=\"6ab326513c3e3d86e84007b8f0501113\", element=\"f.AE9F42CCB7E99E242E2A1EA426C38D3E.d.C3035977AD5E7A8F0E4C882D5F6A98AE.e.74\")>,\n",
       " <selenium.webdriver.remote.webelement.WebElement (session=\"6ab326513c3e3d86e84007b8f0501113\", element=\"f.AE9F42CCB7E99E242E2A1EA426C38D3E.d.C3035977AD5E7A8F0E4C882D5F6A98AE.e.75\")>,\n",
       " <selenium.webdriver.remote.webelement.WebElement (session=\"6ab326513c3e3d86e84007b8f0501113\", element=\"f.AE9F42CCB7E99E242E2A1EA426C38D3E.d.C3035977AD5E7A8F0E4C882D5F6A98AE.e.76\")>,\n",
       " <selenium.webdriver.remote.webelement.WebElement (session=\"6ab326513c3e3d86e84007b8f0501113\", element=\"f.AE9F42CCB7E99E242E2A1EA426C38D3E.d.C3035977AD5E7A8F0E4C882D5F6A98AE.e.77\")>,\n",
       " <selenium.webdriver.remote.webelement.WebElement (session=\"6ab326513c3e3d86e84007b8f0501113\", element=\"f.AE9F42CCB7E99E242E2A1EA426C38D3E.d.C3035977AD5E7A8F0E4C882D5F6A98AE.e.78\")>,\n",
       " <selenium.webdriver.remote.webelement.WebElement (session=\"6ab326513c3e3d86e84007b8f0501113\", element=\"f.AE9F42CCB7E99E242E2A1EA426C38D3E.d.C3035977AD5E7A8F0E4C882D5F6A98AE.e.79\")>,\n",
       " <selenium.webdriver.remote.webelement.WebElement (session=\"6ab326513c3e3d86e84007b8f0501113\", element=\"f.AE9F42CCB7E99E242E2A1EA426C38D3E.d.C3035977AD5E7A8F0E4C882D5F6A98AE.e.80\")>,\n",
       " <selenium.webdriver.remote.webelement.WebElement (session=\"6ab326513c3e3d86e84007b8f0501113\", element=\"f.AE9F42CCB7E99E242E2A1EA426C38D3E.d.C3035977AD5E7A8F0E4C882D5F6A98AE.e.81\")>,\n",
       " <selenium.webdriver.remote.webelement.WebElement (session=\"6ab326513c3e3d86e84007b8f0501113\", element=\"f.AE9F42CCB7E99E242E2A1EA426C38D3E.d.C3035977AD5E7A8F0E4C882D5F6A98AE.e.82\")>]"
      ]
     },
     "execution_count": 79,
     "metadata": {},
     "output_type": "execute_result"
    }
   ],
   "source": [
    "video"
   ]
  },
  {
   "cell_type": "code",
   "execution_count": 80,
   "metadata": {},
   "outputs": [],
   "source": [
    "video[0].click() "
   ]
  },
  {
   "cell_type": "code",
   "execution_count": 81,
   "metadata": {},
   "outputs": [],
   "source": [
    "#if necessary \n",
    "#button = driver.find_element_by_class_name('ytp-ad-skip-button-container')\n",
    "#button.click()"
   ]
  },
  {
   "cell_type": "code",
   "execution_count": 82,
   "metadata": {},
   "outputs": [],
   "source": [
    "time.sleep(70)"
   ]
  },
  {
   "cell_type": "code",
   "execution_count": 83,
   "metadata": {},
   "outputs": [],
   "source": [
    "driver.close()"
   ]
  },
  {
   "cell_type": "code",
   "execution_count": 84,
   "metadata": {},
   "outputs": [],
   "source": [
    "driver.quit()"
   ]
  },
  {
   "cell_type": "code",
   "execution_count": null,
   "metadata": {},
   "outputs": [],
   "source": []
  }
 ],
 "metadata": {
  "kernelspec": {
   "display_name": "aida",
   "language": "python",
   "name": "python3"
  },
  "language_info": {
   "codemirror_mode": {
    "name": "ipython",
    "version": 3
   },
   "file_extension": ".py",
   "mimetype": "text/x-python",
   "name": "python",
   "nbconvert_exporter": "python",
   "pygments_lexer": "ipython3",
   "version": "3.11.7"
  }
 },
 "nbformat": 4,
 "nbformat_minor": 2
}
